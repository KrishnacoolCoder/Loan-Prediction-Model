{
 "cells": [
  {
   "cell_type": "code",
   "execution_count": 3,
   "id": "2c4a5233-d918-478d-913f-6bab67987a4b",
   "metadata": {},
   "outputs": [],
   "source": [
    "import pandas as pd\n",
    "import numpy as np\n",
    "import matplotlib.pyplot as plt\n",
    "import seaborn as sns\n",
    "\n",
    "from sklearn.model_selection import cross_val_score\n",
    "from sklearn.pipeline import Pipeline\n",
    "from sklearn.compose import ColumnTransformer\n",
    "from sklearn.preprocessing import OneHotEncoder, StandardScaler\n",
    "from sklearn.impute import SimpleImputer\n",
    "from sklearn.metrics import classification_report, roc_auc_score, confusion_matrix, precision_recall_curve\n",
    "from xgboost import XGBClassifier\n",
    "\n"
   ]
  },
  {
   "cell_type": "code",
   "execution_count": 4,
   "id": "fe5f6a41-3d7b-4715-8823-276c83371f76",
   "metadata": {},
   "outputs": [],
   "source": [
    "# Load Data\n",
    "train_df = pd.read_csv(\"train.csv\")\n",
    "test_df = pd.read_csv(\"test.csv\")\n",
    "\n",
    "# Save Loan_IDs\n",
    "test_ids = test_df[\"Loan_ID\"]\n",
    "\n",
    "# Drop Loan_IDs\n",
    "train_df.drop(\"Loan_ID\", axis=1, inplace=True)\n",
    "test_df.drop(\"Loan_ID\", axis=1, inplace=True)\n",
    "\n",
    "# Feature Engineering\n",
    "for df in [train_df, test_df]:\n",
    "    df[\"TotalIncome\"] = df[\"ApplicantIncome\"] + df[\"CoapplicantIncome\"]\n",
    "    df[\"LoanIncomeRatio\"] = df[\"LoanAmount\"] / (df[\"TotalIncome\"] + 1)\n",
    "    df[\"IncomeBins\"] = pd.qcut(df[\"TotalIncome\"], 4, labels=False)\n",
    "\n",
    "# Define features and target\n",
    "features = ['Gender','Married','Dependents','Education','Self_Employed',\n",
    "            'ApplicantIncome','CoapplicantIncome','LoanAmount','Loan_Amount_Term',\n",
    "            'Credit_History','Property_Area', 'TotalIncome', 'LoanIncomeRatio', 'IncomeBins']\n",
    "target = 'Loan_Status'\n",
    "\n",
    "X = train_df[features]\n",
    "y = train_df[target].map({'Y': 1, 'N': 0})\n",
    "X_test = test_df[features]\n",
    "\n"
   ]
  },
  {
   "cell_type": "code",
   "execution_count": 5,
   "id": "58ce0f24-b493-440b-b91b-8372c0358d89",
   "metadata": {},
   "outputs": [],
   "source": [
    "# Column types\n",
    "numerical_cols = ['ApplicantIncome', 'CoapplicantIncome', 'LoanAmount', 'Loan_Amount_Term',\n",
    "                  'Credit_History', 'TotalIncome', 'LoanIncomeRatio', 'IncomeBins']\n",
    "categorical_cols = ['Gender','Married','Dependents','Education','Self_Employed','Property_Area']\n",
    "\n"
   ]
  },
  {
   "cell_type": "code",
   "execution_count": 6,
   "id": "e7e1e6ad-f9c6-4850-a6ea-38fa442752c0",
   "metadata": {},
   "outputs": [],
   "source": [
    "# Pipelines\n",
    "numeric_transformer = Pipeline([\n",
    "    ('imputer', SimpleImputer(strategy='median')),\n",
    "    ('scaler', StandardScaler())\n",
    "])\n",
    "categorical_transformer = Pipeline([\n",
    "    ('imputer', SimpleImputer(strategy='most_frequent')),\n",
    "    ('onehot', OneHotEncoder(handle_unknown='ignore'))\n",
    "])\n",
    "preprocessor = ColumnTransformer([\n",
    "    ('num', numeric_transformer, numerical_cols),\n",
    "    ('cat', categorical_transformer, categorical_cols)\n",
    "])\n",
    "\n",
    "# Final Model Pipeline\n",
    "model = Pipeline([\n",
    "    ('preprocessor', preprocessor),\n",
    "    ('classifier', XGBClassifier(n_estimators=100, learning_rate=0.05, use_label_encoder=False, eval_metric='logloss', random_state=42))\n",
    "])\n",
    "\n"
   ]
  },
  {
   "cell_type": "code",
   "execution_count": 7,
   "id": "f5ea0eca-ee56-4245-a448-ed4da3a238d0",
   "metadata": {},
   "outputs": [
    {
     "name": "stderr",
     "output_type": "stream",
     "text": [
      "C:\\Users\\Win11\\AppData\\Local\\Programs\\Python\\Python311\\Lib\\site-packages\\xgboost\\training.py:183: UserWarning: [20:21:52] WARNING: C:\\actions-runner\\_work\\xgboost\\xgboost\\src\\learner.cc:738: \n",
      "Parameters: { \"use_label_encoder\" } are not used.\n",
      "\n",
      "  bst.update(dtrain, iteration=i, fobj=obj)\n",
      "C:\\Users\\Win11\\AppData\\Local\\Programs\\Python\\Python311\\Lib\\site-packages\\xgboost\\training.py:183: UserWarning: [20:21:52] WARNING: C:\\actions-runner\\_work\\xgboost\\xgboost\\src\\learner.cc:738: \n",
      "Parameters: { \"use_label_encoder\" } are not used.\n",
      "\n",
      "  bst.update(dtrain, iteration=i, fobj=obj)\n",
      "C:\\Users\\Win11\\AppData\\Local\\Programs\\Python\\Python311\\Lib\\site-packages\\xgboost\\training.py:183: UserWarning: [20:21:52] WARNING: C:\\actions-runner\\_work\\xgboost\\xgboost\\src\\learner.cc:738: \n",
      "Parameters: { \"use_label_encoder\" } are not used.\n",
      "\n",
      "  bst.update(dtrain, iteration=i, fobj=obj)\n",
      "C:\\Users\\Win11\\AppData\\Local\\Programs\\Python\\Python311\\Lib\\site-packages\\xgboost\\training.py:183: UserWarning: [20:21:52] WARNING: C:\\actions-runner\\_work\\xgboost\\xgboost\\src\\learner.cc:738: \n",
      "Parameters: { \"use_label_encoder\" } are not used.\n",
      "\n",
      "  bst.update(dtrain, iteration=i, fobj=obj)\n",
      "C:\\Users\\Win11\\AppData\\Local\\Programs\\Python\\Python311\\Lib\\site-packages\\xgboost\\training.py:183: UserWarning: [20:21:53] WARNING: C:\\actions-runner\\_work\\xgboost\\xgboost\\src\\learner.cc:738: \n",
      "Parameters: { \"use_label_encoder\" } are not used.\n",
      "\n",
      "  bst.update(dtrain, iteration=i, fobj=obj)\n",
      "C:\\Users\\Win11\\AppData\\Local\\Programs\\Python\\Python311\\Lib\\site-packages\\xgboost\\training.py:183: UserWarning: [20:21:53] WARNING: C:\\actions-runner\\_work\\xgboost\\xgboost\\src\\learner.cc:738: \n",
      "Parameters: { \"use_label_encoder\" } are not used.\n",
      "\n",
      "  bst.update(dtrain, iteration=i, fobj=obj)\n"
     ]
    },
    {
     "name": "stdout",
     "output_type": "stream",
     "text": [
      "Cross-validated F1 Score: 0.8608\n",
      "\n",
      "Best threshold using F-beta (β=0.5): 0.734\n",
      "\n",
      "Classification Report (Threshold Adjusted):\n",
      "              precision    recall  f1-score   support\n",
      "\n",
      "           0       0.86      0.98      0.92       192\n",
      "           1       0.99      0.93      0.96       422\n",
      "\n",
      "    accuracy                           0.95       614\n",
      "   macro avg       0.93      0.96      0.94       614\n",
      "weighted avg       0.95      0.95      0.95       614\n",
      "\n"
     ]
    }
   ],
   "source": [
    "# Fit model\n",
    "model.fit(X, y)\n",
    "\n",
    "# Cross-validation\n",
    "cv_scores = cross_val_score(model, X, y, cv=5, scoring='f1')\n",
    "print(f\"Cross-validated F1 Score: {cv_scores.mean():.4f}\")\n",
    "\n",
    "# Predict probabilities\n",
    "y_proba_train = model.predict_proba(X)[:, 1]\n",
    "\n",
    "# F-beta threshold tuning (β=0.5 prefers precision)\n",
    "beta = 0.5\n",
    "precisions, recalls, thresholds = precision_recall_curve(y, y_proba_train)\n",
    "fbeta_scores = [( (1 + beta**2) * p * r ) / ((beta**2 * p) + r + 1e-8) for p, r in zip(precisions[:-1], recalls[:-1])]\n",
    "best_index = np.argmax(fbeta_scores)\n",
    "best_threshold = thresholds[best_index]\n",
    "print(f\"\\nBest threshold using F-beta (β={beta}): {best_threshold:.3f}\")\n",
    "\n",
    "# Classification on train using threshold\n",
    "y_pred_balanced = (y_proba_train >= best_threshold).astype(int)\n",
    "print(\"\\nClassification Report (Threshold Adjusted):\")\n",
    "print(classification_report(y, y_pred_balanced))\n",
    "\n"
   ]
  },
  {
   "cell_type": "code",
   "execution_count": 8,
   "id": "4ddc880a-d268-498e-8886-9f0a7c62f08c",
   "metadata": {},
   "outputs": [
    {
     "data": {
      "image/png": "[encoded data removed]",
      "text/plain": [
       "<Figure size 640x480 with 2 Axes>"
      ]
     },
     "metadata": {},
     "output_type": "display_data"
    },
    {
     "data": {
      "text/html": [
       "<div>\n",
       "<style scoped>\n",
       "    .dataframe tbody tr th:only-of-type {\n",
       "        vertical-align: middle;\n",
       "    }\n",
       "\n",
       "    .dataframe tbody tr th {\n",
       "        vertical-align: top;\n",
       "    }\n",
       "\n",
       "    .dataframe thead th {\n",
       "        text-align: right;\n",
       "    }\n",
       "</style>\n",
       "<table border=\"1\" class=\"dataframe\">\n",
       "  <thead>\n",
       "    <tr style=\"text-align: right;\">\n",
       "      <th></th>\n",
       "      <th>Loan_ID</th>\n",
       "      <th>Loan_Status</th>\n",
       "    </tr>\n",
       "  </thead>\n",
       "  <tbody>\n",
       "    <tr>\n",
       "      <th>0</th>\n",
       "      <td>LP001015</td>\n",
       "      <td>Y</td>\n",
       "    </tr>\n",
       "    <tr>\n",
       "      <th>1</th>\n",
       "      <td>LP001022</td>\n",
       "      <td>Y</td>\n",
       "    </tr>\n",
       "    <tr>\n",
       "      <th>2</th>\n",
       "      <td>LP001031</td>\n",
       "      <td>Y</td>\n",
       "    </tr>\n",
       "    <tr>\n",
       "      <th>3</th>\n",
       "      <td>LP001035</td>\n",
       "      <td>Y</td>\n",
       "    </tr>\n",
       "    <tr>\n",
       "      <th>4</th>\n",
       "      <td>LP001051</td>\n",
       "      <td>N</td>\n",
       "    </tr>\n",
       "  </tbody>\n",
       "</table>\n",
       "</div>"
      ],
      "text/plain": [
       "    Loan_ID Loan_Status\n",
       "0  LP001015           Y\n",
       "1  LP001022           Y\n",
       "2  LP001031           Y\n",
       "3  LP001035           Y\n",
       "4  LP001051           N"
      ]
     },
     "execution_count": 8,
     "metadata": {},
     "output_type": "execute_result"
    }
   ],
   "source": [
    "# Confusion Matrix\n",
    "conf_matrix = confusion_matrix(y, y_pred_balanced)\n",
    "sns.heatmap(conf_matrix, annot=True, fmt='d', cmap='Blues')\n",
    "plt.title(f\"Confusion Matrix (F-beta={beta})\")\n",
    "plt.xlabel(\"Predicted\")\n",
    "plt.ylabel(\"Actual\")\n",
    "plt.show()\n",
    "\n",
    "# Predict on Test using threshold\n",
    "y_proba_test = model.predict_proba(X_test)[:, 1]\n",
    "y_test_pred = (y_proba_test >= best_threshold).astype(int)\n",
    "\n",
    "# Prepare Submission\n",
    "submission = pd.DataFrame({\n",
    "    \"Loan_ID\": test_ids,\n",
    "    \"Loan_Status\": np.where(y_test_pred == 1, 'Y', 'N')\n",
    "})\n",
    "\n",
    "# Save if needed\n",
    "# submission.to_csv(\"submission_balanced_threshold.csv\", index=False)\n",
    "submission.head()"
   ]
  }
 ],
 "metadata": {
  "kernelspec": {
   "display_name": "Python 3 (ipykernel)",
   "language": "python",
   "name": "python3"
  },
  "language_info": {
   "codemirror_mode": {
    "name": "ipython",
    "version": 3
   },
   "file_extension": ".py",
   "mimetype": "text/x-python",
   "name": "python",
   "nbconvert_exporter": "python",
   "pygments_lexer": "ipython3",
   "version": "3.11.4"
  }
 },
 "nbformat": 4,
 "nbformat_minor": 5
}
